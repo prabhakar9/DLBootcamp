{
 "cells": [
  {
   "cell_type": "code",
   "execution_count": 1,
   "metadata": {
    "collapsed": false,
    "deletable": true,
    "editable": true
   },
   "outputs": [],
   "source": [
    "import getpass\n",
    "import sys\n",
    "import time\n",
    "\n",
    "import numpy as np\n",
    "from copy import deepcopy\n",
    "\n",
    "from utils import calculate_perplexity, get_ptb_dataset, Vocab\n",
    "from utils import ptb_iterator, sample\n",
    "\n",
    "import tensorflow as tf\n",
    "from tensorflow.python.ops.seq2seq import sequence_loss\n",
    "from model import LanguageModel\n",
    "\n",
    "from q3_RNNLM import *\n",
    "from q2_initialization import *\n"
   ]
  },
  {
   "cell_type": "code",
   "execution_count": null,
   "metadata": {
    "collapsed": false,
    "deletable": true,
    "editable": true
   },
   "outputs": [
    {
     "name": "stdout",
     "output_type": "stream",
     "text": [
      "929589.0 total words with 10000 uniques\n",
      "929589.0 total words with 10000 uniques\n",
      "Epoch 0\n",
      "Training perplexity: 481.38583374\n",
      "Validation perplexity: 318.478057861\n",
      "Total time: 280.050880194\n",
      "Epoch 1\n",
      "Training perplexity: 273.311676025\n",
      "Validation perplexity: 248.985473633\n",
      "Total time: 282.458016872\n",
      "Epoch 2\n",
      "Training perplexity: 218.730789185\n",
      "Validation perplexity: 217.94329834\n",
      "Total time: 282.120098114\n",
      "Epoch 3\n",
      "Training perplexity: 188.931594849\n",
      "Validation perplexity: 200.69367981\n",
      "Total time: 295.675538778\n",
      "Epoch 4\n",
      "Training perplexity: 169.474807739\n",
      "Validation perplexity: 189.362792969\n",
      "Total time: 293.762504816\n",
      "Epoch 5\n",
      "Training perplexity: 155.438522339\n",
      "Validation perplexity: 181.886520386\n",
      "Total time: 290.388683081\n",
      "Epoch 6\n",
      "Training perplexity: 144.546508789\n",
      "Validation perplexity: 176.612884521\n",
      "Total time: 283.92911911\n",
      "Epoch 7\n",
      "Training perplexity: 135.915786743\n",
      "Validation perplexity: 172.989624023\n",
      "Total time: 291.237882137\n",
      "Epoch 8\n",
      "Training perplexity: 128.884506226\n",
      "Validation perplexity: 170.626312256\n",
      "Total time: 292.073834896\n",
      "Epoch 9\n",
      "Training perplexity: 122.976364136\n",
      "Validation perplexity: 168.968231201\n",
      "Total time: 284.106935024\n",
      "Epoch 10\n",
      "Training perplexity: 117.748207092\n",
      "Validation perplexity: 168.016159058\n",
      "Total time: 299.630795956\n",
      "Epoch 11\n",
      "910 / 1452 : pp = 112.940811157"
     ]
    }
   ],
   "source": [
    "test_RNNLM()"
   ]
  },
  {
   "cell_type": "code",
   "execution_count": null,
   "metadata": {
    "collapsed": true,
    "deletable": true,
    "editable": true
   },
   "outputs": [],
   "source": []
  },
  {
   "cell_type": "code",
   "execution_count": null,
   "metadata": {
    "collapsed": true,
    "deletable": true,
    "editable": true
   },
   "outputs": [],
   "source": []
  }
 ],
 "metadata": {
  "kernelspec": {
   "display_name": "Python 2",
   "language": "python",
   "name": "python2"
  },
  "language_info": {
   "codemirror_mode": {
    "name": "ipython",
    "version": 2
   },
   "file_extension": ".py",
   "mimetype": "text/x-python",
   "name": "python",
   "nbconvert_exporter": "python",
   "pygments_lexer": "ipython2",
   "version": "2.7.10"
  }
 },
 "nbformat": 4,
 "nbformat_minor": 2
}
