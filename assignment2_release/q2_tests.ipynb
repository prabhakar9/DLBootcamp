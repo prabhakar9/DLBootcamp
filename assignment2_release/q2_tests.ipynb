{
 "cells": [
  {
   "cell_type": "code",
   "execution_count": 10,
   "metadata": {
    "collapsed": false
   },
   "outputs": [
    {
     "name": "stdout",
     "output_type": "stream",
     "text": [
      "The autoreload extension is already loaded. To reload it, use:\n",
      "  %reload_ext autoreload\n"
     ]
    }
   ],
   "source": [
    "%load_ext autoreload\n",
    "%autoreload 2\n",
    "%reload_ext autoreload\n",
    "from q2_initialization import *\n",
    "from q2_NER import *"
   ]
  },
  {
   "cell_type": "code",
   "execution_count": 3,
   "metadata": {
    "collapsed": false
   },
   "outputs": [
    {
     "name": "stdout",
     "output_type": "stream",
     "text": [
      "Running basic tests...\n",
      "Basic (non-exhaustive) Xavier initialization tests pass\n",
      "\n"
     ]
    }
   ],
   "source": [
    "test_initialization_basic()"
   ]
  },
  {
   "cell_type": "code",
   "execution_count": 8,
   "metadata": {
    "collapsed": false
   },
   "outputs": [
    {
     "name": "stdout",
     "output_type": "stream",
     "text": [
      "Running your tests...\n",
      "Expected Xavier initializer:  0.454858826147\n",
      "Actual Xavier initializer:  0.45374\n"
     ]
    }
   ],
   "source": [
    "test_initialization()"
   ]
  },
  {
   "cell_type": "code",
   "execution_count": 28,
   "metadata": {
    "collapsed": false
   },
   "outputs": [
    {
     "name": "stdout",
     "output_type": "stream",
     "text": [
      "Epoch 0\n",
      "Training loss: 0.287647336721336721\n",
      "Training acc: 0.923657186636\n",
      "Validation loss: 0.21093441546\n",
      "\n",
      "[[42417    81    28   144    89]\n",
      " [  177  1752    12    82    71]\n",
      " [  317    65   842    25    19]\n",
      " [  599   150    30  1224    89]\n",
      " [  428    58     3    57  2603]]\n",
      "Tag: O - P 0.9654 / R 0.9920\n",
      "Tag: LOC - P 0.8319 / R 0.8367\n",
      "Tag: MISC - P 0.9202 / R 0.6640\n",
      "Tag: ORG - P 0.7990 / R 0.5851\n",
      "Tag: PER - P 0.9067 / R 0.8266\n",
      "Total time: 96.5641419888\n",
      "Epoch 1\n",
      "Training loss: 0.147128328681328681\n",
      "Training acc: 0.967198864557\n",
      "Validation loss: 0.196824550629\n",
      "\n",
      "[[42450    69    35   158    47]\n",
      " [  180  1770     7   110    27]\n",
      " [  291    38   873    52    14]\n",
      " [  571   106    23  1329    63]\n",
      " [  517    46     1    94  2491]]\n",
      "Tag: O - P 0.9646 / R 0.9928\n",
      "Tag: LOC - P 0.8724 / R 0.8453\n",
      "Tag: MISC - P 0.9297 / R 0.6885\n",
      "Tag: ORG - P 0.7625 / R 0.6353\n",
      "Tag: PER - P 0.9428 / R 0.7910\n",
      "Total time: 102.004939079\n",
      "Epoch 2\n",
      "Training loss: 0.120194144547144547\n",
      "Training acc: 0.973666763251\n",
      "Validation loss: 0.188730463386\n",
      "\n",
      "[[42340    61    33   244    81]\n",
      " [  150  1738    13   146    47]\n",
      " [  289    31   887    45    16]\n",
      " [  475    84    24  1432    77]\n",
      " [  427    34     5    85  2598]]\n",
      "Tag: O - P 0.9693 / R 0.9902\n",
      "Tag: LOC - P 0.8922 / R 0.8300\n",
      "Tag: MISC - P 0.9220 / R 0.6995\n",
      "Tag: ORG - P 0.7336 / R 0.6845\n",
      "Tag: PER - P 0.9216 / R 0.8250\n",
      "Total time: 96.0538671017\n",
      "Epoch 3\n",
      "Training loss: 0.107046544552544552\n",
      "Training acc: 0.976205794098\n",
      "Validation loss: 0.186546623707\n",
      "\n",
      "[[42189    61    76   343    90]\n",
      " [  119  1785    13   125    52]\n",
      " [  236    25   941    46    20]\n",
      " [  417    83    30  1472    90]\n",
      " [  380    27     4    99  2639]]\n",
      "Tag: O - P 0.9734 / R 0.9867\n",
      "Tag: LOC - P 0.9011 / R 0.8524\n",
      "Tag: MISC - P 0.8844 / R 0.7421\n",
      "Tag: ORG - P 0.7060 / R 0.7036\n",
      "Tag: PER - P 0.9128 / R 0.8380\n",
      "Total time: 102.99138689\n",
      "Epoch 4\n",
      "Training loss: 0.0979953557253557253\n",
      "Training acc: 0.977909940527\n",
      "Validation loss: 0.183645308018\n",
      "\n",
      "[[42365    55    73   173    93]\n",
      " [  170  1770    22    84    48]\n",
      " [  248    25   947    27    21]\n",
      " [  500   111    37  1355    89]\n",
      " [  449    36     3    48  2613]]\n",
      "Tag: O - P 0.9687 / R 0.9908\n",
      "Tag: LOC - P 0.8863 / R 0.8453\n",
      "Tag: MISC - P 0.8752 / R 0.7468\n",
      "Tag: ORG - P 0.8032 / R 0.6477\n",
      "Tag: PER - P 0.9124 / R 0.8298\n",
      "Total time: 94.8493800163\n",
      "Epoch 5\n",
      "Training loss: 0.0923420190811190811\n",
      "Training acc: 0.978666247587\n",
      "Validation loss: 0.186436444521\n",
      "\n",
      "[[42209    88    89   301    72]\n",
      " [  134  1825    13    84    38]\n",
      " [  244    33   922    51    18]\n",
      " [  440   120    29  1423    80]\n",
      " [  378    51     4   124  2592]]\n",
      "Tag: O - P 0.9724 / R 0.9871\n",
      "Tag: LOC - P 0.8621 / R 0.8715\n",
      "Tag: MISC - P 0.8723 / R 0.7271\n",
      "Tag: ORG - P 0.7176 / R 0.6802\n",
      "Tag: PER - P 0.9257 / R 0.8231\n",
      "Total time: 91.2964179516\n",
      "Epoch 6\n",
      "Training loss: 0.0877591818571818571\n",
      "Training acc: 0.97949622092\n",
      "Validation loss: 0.185471132398\n",
      "\n",
      "[[42193   108    92   281    85]\n",
      " [  131  1817    11    94    41]\n",
      " [  241    32   922    56    17]\n",
      " [  459   108    25  1425    75]\n",
      " [  382    54     3   112  2598]]\n",
      "Tag: O - P 0.9721 / R 0.9868\n",
      "Tag: LOC - P 0.8575 / R 0.8677\n",
      "Tag: MISC - P 0.8756 / R 0.7271\n",
      "Tag: ORG - P 0.7241 / R 0.6812\n",
      "Tag: PER - P 0.9226 / R 0.8250\n",
      "Total time: 103.512352943\n",
      "Epoch 7\n",
      "Training loss: 0.0842015445232445232\n",
      "Training acc: 0.980242705811\n",
      "Validation loss: 0.191469401121\n",
      "Test\n",
      "=-=-=\n",
      "Writing predictions to q2_test.predicted\n"
     ]
    }
   ],
   "source": [
    "test_NER()"
   ]
  },
  {
   "cell_type": "code",
   "execution_count": 29,
   "metadata": {
    "collapsed": false
   },
   "outputs": [
    {
     "name": "stdout",
     "output_type": "stream",
     "text": [
      "Epoch 0\n",
      "Training loss: 0.303049892187892187\n",
      "Training acc: 0.914964566523\n",
      "Validation loss: 0.213592037559\n",
      "\n",
      "[[42446    43    40   154    76]\n",
      " [  213  1643     8   166    64]\n",
      " [  329    30   834    59    16]\n",
      " [  640    98    26  1254    74]\n",
      " [  548    17     2    51  2531]]\n",
      "Tag: O - P 0.9608 / R 0.9927\n",
      "Tag: LOC - P 0.8973 / R 0.7846\n",
      "Tag: MISC - P 0.9165 / R 0.6577\n",
      "Tag: ORG - P 0.7447 / R 0.5994\n",
      "Tag: PER - P 0.9167 / R 0.8037\n",
      "Total time: 96.242210865\n",
      "Epoch 1\n",
      "Training loss: 0.148590177298177298\n",
      "Training acc: 0.966840355366\n",
      "Validation loss: 0.194565743208\n",
      "\n",
      "[[42419    48    43   174    75]\n",
      " [  189  1778    11    64    52]\n",
      " [  284    33   909    22    20]\n",
      " [  561   144    35  1272    80]\n",
      " [  529    28     2    55  2535]]\n",
      "Tag: O - P 0.9645 / R 0.9920\n",
      "Tag: LOC - P 0.8754 / R 0.8491\n",
      "Tag: MISC - P 0.9090 / R 0.7169\n",
      "Tag: ORG - P 0.8015 / R 0.6080\n",
      "Tag: PER - P 0.9178 / R 0.8050\n",
      "Total time: 102.651669025\n",
      "Epoch 2\n",
      "Training loss: 0.120927669108669108\n",
      "Training acc: 0.973377009248\n",
      "Validation loss: 0.191750109196\n",
      "\n",
      "[[42316    81    64   236    62]\n",
      " [  143  1767    20   127    37]\n",
      " [  261    27   917    47    16]\n",
      " [  505    90    29  1405    63]\n",
      " [  498    43     5    79  2524]]\n",
      "Tag: O - P 0.9678 / R 0.9896\n",
      "Tag: LOC - P 0.8800 / R 0.8438\n",
      "Tag: MISC - P 0.8860 / R 0.7232\n",
      "Tag: ORG - P 0.7418 / R 0.6716\n",
      "Tag: PER - P 0.9341 / R 0.8015\n",
      "Total time: 100.871157169\n",
      "Epoch 3\n",
      "Training loss: 0.107444368303368303\n",
      "Training acc: 0.975822729483\n",
      "Validation loss: 0.1906927526\n",
      "\n",
      "[[42373   104    66   173    43]\n",
      " [  150  1848    11    62    23]\n",
      " [  263    37   924    32    12]\n",
      " [  509   151    27  1349    56]\n",
      " [  547    68     4    58  2472]]\n",
      "Tag: O - P 0.9665 / R 0.9910\n",
      "Tag: LOC - P 0.8370 / R 0.8825\n",
      "Tag: MISC - P 0.8953 / R 0.7287\n",
      "Tag: ORG - P 0.8059 / R 0.6448\n",
      "Tag: PER - P 0.9486 / R 0.7850\n",
      "Total time: 102.16937685\n",
      "Epoch 4\n",
      "Training loss: 0.0989889502525502525\n",
      "Training acc: 0.977590720014\n",
      "Validation loss: 0.18586550653\n",
      "\n",
      "[[42223    76    83   298    79]\n",
      " [  129  1833    10    83    39]\n",
      " [  248    34   924    45    17]\n",
      " [  455   120    31  1411    75]\n",
      " [  438    33     1   107  2570]]\n",
      "Tag: O - P 0.9708 / R 0.9875\n",
      "Tag: LOC - P 0.8745 / R 0.8754\n",
      "Tag: MISC - P 0.8808 / R 0.7287\n",
      "Tag: ORG - P 0.7258 / R 0.6745\n",
      "Tag: PER - P 0.9245 / R 0.8161\n",
      "Total time: 102.980961084\n",
      "Epoch 5\n",
      "Training loss: 0.0930747166276166276\n",
      "Training acc: 0.978381404668\n",
      "Validation loss: 0.186537802219\n",
      "\n",
      "[[42350    60    77   177    95]\n",
      " [  157  1791    14    73    59]\n",
      " [  265    27   934    27    15]\n",
      " [  555   125    32  1309    71]\n",
      " [  484    25     5    60  2575]]\n",
      "Tag: O - P 0.9667 / R 0.9904\n",
      "Tag: LOC - P 0.8831 / R 0.8553\n",
      "Tag: MISC - P 0.8795 / R 0.7366\n",
      "Tag: ORG - P 0.7953 / R 0.6257\n",
      "Tag: PER - P 0.9147 / R 0.8177\n",
      "Total time: 92.2395009995\n",
      "Epoch 6\n",
      "Training loss: 0.0882990285754285754\n",
      "Training acc: 0.979275222104\n",
      "Validation loss: 0.191418811679\n",
      "\n",
      "[[42207    74    74   318    86]\n",
      " [  142  1807    17    87    41]\n",
      " [  269    29   906    47    17]\n",
      " [  467   108    25  1420    72]\n",
      " [  436    32     3    88  2590]]\n",
      "Tag: O - P 0.9698 / R 0.9871\n",
      "Tag: LOC - P 0.8815 / R 0.8629\n",
      "Tag: MISC - P 0.8839 / R 0.7145\n",
      "Tag: ORG - P 0.7245 / R 0.6788\n",
      "Tag: PER - P 0.9230 / R 0.8225\n",
      "Total time: 90.3774840832\n",
      "Epoch 7\n",
      "Training loss: 0.0848841369152369152\n",
      "Training acc: 0.979623909125\n",
      "Validation loss: 0.190773546696\n",
      "Test\n",
      "=-=-=\n",
      "Writing predictions to q2_test.predicted\n"
     ]
    }
   ],
   "source": [
    "test_NER()"
   ]
  },
  {
   "cell_type": "code",
   "execution_count": null,
   "metadata": {
    "collapsed": true
   },
   "outputs": [],
   "source": []
  }
 ],
 "metadata": {
  "kernelspec": {
   "display_name": "Python 2",
   "language": "python",
   "name": "python2"
  },
  "language_info": {
   "codemirror_mode": {
    "name": "ipython",
    "version": 2
   },
   "file_extension": ".py",
   "mimetype": "text/x-python",
   "name": "python",
   "nbconvert_exporter": "python",
   "pygments_lexer": "ipython2",
   "version": "2.7.10"
  }
 },
 "nbformat": 4,
 "nbformat_minor": 2
}
