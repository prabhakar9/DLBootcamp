{
 "cells": [
  {
   "cell_type": "code",
   "execution_count": 6,
   "metadata": {
    "collapsed": false,
    "deletable": true,
    "editable": true
   },
   "outputs": [
    {
     "name": "stdout",
     "output_type": "stream",
     "text": [
      "The autoreload extension is already loaded. To reload it, use:\n",
      "  %reload_ext autoreload\n"
     ]
    }
   ],
   "source": [
    "%load_ext autoreload\n",
    "%autoreload 2\n",
    "%reload_ext autoreload\n",
    "from q1_softmax import *\n",
    "from q1_classifier import *"
   ]
  },
  {
   "cell_type": "code",
   "execution_count": 2,
   "metadata": {
    "collapsed": false,
    "deletable": true,
    "editable": true
   },
   "outputs": [
    {
     "name": "stdout",
     "output_type": "stream",
     "text": [
      "Running basic tests...\n",
      "Basic (non-exhaustive) softmax tests pass\n",
      "\n"
     ]
    }
   ],
   "source": [
    "test_softmax_basic()"
   ]
  },
  {
   "cell_type": "code",
   "execution_count": 3,
   "metadata": {
    "collapsed": false,
    "deletable": true,
    "editable": true
   },
   "outputs": [
    {
     "name": "stdout",
     "output_type": "stream",
     "text": [
      "Basic (non-exhaustive) cross-entropy tests pass\n",
      "\n"
     ]
    }
   ],
   "source": [
    "test_cross_entropy_loss_basic()"
   ]
  },
  {
   "cell_type": "code",
   "execution_count": 4,
   "metadata": {
    "collapsed": false,
    "deletable": true,
    "editable": true
   },
   "outputs": [
    {
     "name": "stdout",
     "output_type": "stream",
     "text": [
      "[[ 0.92336953  0.08881867  0.33767712]\n",
      " [ 0.86538041  0.7084806   0.84649336]\n",
      " [ 0.50179279  0.84819055  0.90348732]]\n",
      "4\n"
     ]
    }
   ],
   "source": [
    "with tf.Session() as session:\n",
    "    z = tf.random_uniform((3,3))\n",
    "    a = tf.Variable(4)\n",
    "    init = tf.initialize_all_variables()\n",
    "    #init = tf.global_variables_initializer()\n",
    "    session.run(init)\n",
    "    print z.eval()\n",
    "    print a.eval()"
   ]
  },
  {
   "cell_type": "code",
   "execution_count": 11,
   "metadata": {
    "collapsed": false,
    "deletable": true,
    "editable": true
   },
   "outputs": [
    {
     "name": "stdout",
     "output_type": "stream",
     "text": [
      "Epoch 0: loss = 63.15 (0.031 sec)\n",
      "Epoch 1: loss = 21.69 (0.010 sec)\n",
      "Epoch 2: loss = 11.66 (0.010 sec)\n",
      "Epoch 3: loss = 7.79 (0.010 sec)\n",
      "Epoch 4: loss = 5.80 (0.011 sec)\n",
      "Epoch 5: loss = 4.61 (0.010 sec)\n",
      "Epoch 6: loss = 3.82 (0.010 sec)\n",
      "Epoch 7: loss = 3.25 (0.010 sec)\n",
      "Epoch 8: loss = 2.83 (0.010 sec)\n",
      "Epoch 9: loss = 2.51 (0.010 sec)\n",
      "Epoch 10: loss = 2.25 (0.010 sec)\n",
      "Epoch 11: loss = 2.04 (0.010 sec)\n",
      "Epoch 12: loss = 1.86 (0.010 sec)\n",
      "Epoch 13: loss = 1.71 (0.010 sec)\n",
      "Epoch 14: loss = 1.59 (0.010 sec)\n",
      "Epoch 15: loss = 1.48 (0.010 sec)\n",
      "Epoch 16: loss = 1.38 (0.010 sec)\n",
      "Epoch 17: loss = 1.30 (0.011 sec)\n",
      "Epoch 18: loss = 1.23 (0.010 sec)\n",
      "Epoch 19: loss = 1.16 (0.011 sec)\n",
      "Epoch 20: loss = 1.10 (0.011 sec)\n",
      "Epoch 21: loss = 1.05 (0.012 sec)\n",
      "Epoch 22: loss = 1.00 (0.012 sec)\n",
      "Epoch 23: loss = 0.95 (0.010 sec)\n",
      "Epoch 24: loss = 0.91 (0.010 sec)\n",
      "Epoch 25: loss = 0.88 (0.010 sec)\n",
      "Epoch 26: loss = 0.84 (0.010 sec)\n",
      "Epoch 27: loss = 0.81 (0.010 sec)\n",
      "Epoch 28: loss = 0.78 (0.010 sec)\n",
      "Epoch 29: loss = 0.75 (0.010 sec)\n",
      "Epoch 30: loss = 0.73 (0.010 sec)\n",
      "Epoch 31: loss = 0.70 (0.010 sec)\n",
      "Epoch 32: loss = 0.68 (0.010 sec)\n",
      "Epoch 33: loss = 0.66 (0.010 sec)\n",
      "Epoch 34: loss = 0.64 (0.010 sec)\n",
      "Epoch 35: loss = 0.62 (0.010 sec)\n",
      "Epoch 36: loss = 0.60 (0.010 sec)\n",
      "Epoch 37: loss = 0.59 (0.010 sec)\n",
      "Epoch 38: loss = 0.57 (0.010 sec)\n",
      "Epoch 39: loss = 0.56 (0.010 sec)\n",
      "Epoch 40: loss = 0.54 (0.011 sec)\n",
      "Epoch 41: loss = 0.53 (0.011 sec)\n",
      "Epoch 42: loss = 0.52 (0.012 sec)\n",
      "Epoch 43: loss = 0.50 (0.010 sec)\n",
      "Epoch 44: loss = 0.49 (0.010 sec)\n",
      "Epoch 45: loss = 0.48 (0.010 sec)\n",
      "Epoch 46: loss = 0.47 (0.010 sec)\n",
      "Epoch 47: loss = 0.46 (0.010 sec)\n",
      "Epoch 48: loss = 0.45 (0.010 sec)\n",
      "Epoch 49: loss = 0.44 (0.010 sec)\n",
      "Basic (non-exhaustive) classifier tests pass\n",
      "\n"
     ]
    }
   ],
   "source": [
    "test_SoftmaxModel()"
   ]
  },
  {
   "cell_type": "code",
   "execution_count": null,
   "metadata": {
    "collapsed": true,
    "deletable": true,
    "editable": true
   },
   "outputs": [],
   "source": []
  }
 ],
 "metadata": {
  "kernelspec": {
   "display_name": "Python 2",
   "language": "python",
   "name": "python2"
  },
  "language_info": {
   "codemirror_mode": {
    "name": "ipython",
    "version": 2
   },
   "file_extension": ".py",
   "mimetype": "text/x-python",
   "name": "python",
   "nbconvert_exporter": "python",
   "pygments_lexer": "ipython2",
   "version": "2.7.10"
  }
 },
 "nbformat": 4,
 "nbformat_minor": 2
}
